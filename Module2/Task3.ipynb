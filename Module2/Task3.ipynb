{
 "cells": [
  {
   "cell_type": "code",
   "execution_count": 1,
   "metadata": {},
   "outputs": [],
   "source": [
    "file = open(\"fileToCorrupt.txt\", \"wb\")\n",
    "string = b\"This is some cool text that is unfortunately going to be corrupted. :(\"\n",
    "file.write(string)\n",
    "\n",
    "len(string)\n",
    "\n",
    "file.close()"
   ]
  },
  {
   "cell_type": "code",
   "execution_count": 2,
   "metadata": {},
   "outputs": [
    {
     "name": "stdout",
     "output_type": "stream",
     "text": [
      "Key is: b'secretkeeeeeeeey'\n",
      "Len of key is: 16\n"
     ]
    }
   ],
   "source": [
    "import os\n",
    "from Crypto.Cipher import AES\n",
    "import binascii\n",
    "\n",
    "def pad(inString, blockSize):\n",
    "    remainder = blockSize - (len(inString) % blockSize)\n",
    "    print(\"Remainder is: \" + str(remainder))\n",
    "    paddedString = inString +  bytes([remainder] * remainder)\n",
    "    return paddedString\n",
    "\n",
    "\n",
    "\n",
    "key = b\"secretkeeeeeeeey\"\n",
    "print(\"Key is: \" + str(key))\n",
    "print(\"Len of key is: \" + str(len(key)))\n",
    "\n",
    "ecbEncryptor = AES.new(key, AES.MODE_ECB)\n",
    "cbcEncryptor = AES.new(key, AES.MODE_CBC, b\"secretvectooooor\")\n",
    "    \n",
    "\n",
    "file = open(\"fileToCorrupt.txt\", \"rb\")\n",
    "contents = file.read()\n",
    "\n",
    "\n"
   ]
  },
  {
   "cell_type": "code",
   "execution_count": 3,
   "metadata": {},
   "outputs": [
    {
     "name": "stdout",
     "output_type": "stream",
     "text": [
      "Read in: b'5468697320697320736f6d6520636f6f6c2074657874207468617420697320756e666f7274756e6174656c7920676f696e6720746f20626520636f727275707465642e203a28'\n",
      "Which is: b'This is some cool text that is unfortunately going to be corrupted. :('\n",
      "Len of raw: 70\n",
      "Remainder is: 10\n",
      "Padded to 16: b'5468697320697320736f6d6520636f6f6c2074657874207468617420697320756e666f7274756e6174656c7920676f696e6720746f20626520636f727275707465642e203a280a0a0a0a0a0a0a0a0a0a'\n",
      "Which is: b'This is some cool text that is unfortunately going to be corrupted. :(\\n\\n\\n\\n\\n\\n\\n\\n\\n\\n'\n",
      "Len of padded contents: 80\n",
      "Encrypted: b'4ade7c5b2116495335be1173ba93f0ae81ae4a1031ab16e1fa312dd8f7949b4e6714cf13889018ae8ad78262a32b19343f91436868faf85d9eb0c1181c1bc210efff1a811380424cfe4c15f7af86d821'\n",
      "Encrypted: b'1de7d50e676c02880a3b93c8db31ab00aa888cb778d6d293d4c0a9747e19a9562da1a4228652d9b083f907cbb51c96ce30dc59d35fd82599b7b8f895b7dcda5106d2af6bb034e95eb74d31b24ad41636'\n"
     ]
    }
   ],
   "source": [
    "print(\"Read in: \" + str(binascii.hexlify(contents)))\n",
    "print(\"Which is: \" + str(contents))\n",
    "print(\"Len of raw: \" + str(len(contents)))\n",
    "paddedString = pad(contents, 16)\n",
    "print(\"Padded to 16: \" + str(binascii.hexlify(paddedString)))\n",
    "print(\"Which is: \" + str(paddedString))\n",
    "print(\"Len of padded contents: \" +str(len(paddedString)))\n",
    "\n",
    "ecb_encryptedContents = ecbEncryptor.encrypt(paddedString)\n",
    "cbc_encryptedContents = cbcEncryptor.encrypt(paddedString)\n",
    "\n",
    "print(\"Encrypted: \" + str(binascii.hexlify(ecb_encryptedContents)))\n",
    "print(\"Encrypted: \" + str(binascii.hexlify(cbc_encryptedContents)))"
   ]
  },
  {
   "cell_type": "code",
   "execution_count": 4,
   "metadata": {},
   "outputs": [
    {
     "name": "stdout",
     "output_type": "stream",
     "text": [
      "ECB Corrupted: b'4ade7c5b2116495335be1173ba93f0ae81ae4a1031ab16e1fa312dd8f7949b4e6714cf13889018ae8ad78262a32b19343f91436868faf85d9eb0c1181c1bc210efff1a811380424cfe4c15f7af86d821'\n",
      "CBC Corrupted: b'1de7d50e676c02880a3b93c8db31ab00aa888cb778d6d293d4c0a9747e19a9562da1a4228652d9b083f907cbb51c96ce30dc59d35fd82599b7b8f895b7dcda5106d2af6bb034e95eb74d31b24ad41636'\n"
     ]
    }
   ],
   "source": [
    "# Now to corrupt a byte\n",
    "\n",
    "byteToCorrupt = 30\n",
    "ecb_corruptedContents = ecb_encryptedContents[0:byteToCorrupt - 1] + bytes([int(ecb_encryptedContents[byteToCorrupt]) + 1]) + ecb_encryptedContents[byteToCorrupt:]\n",
    "cbc_corruptedContents = cbc_encryptedContents[0:byteToCorrupt - 1] + bytes([int(cbc_encryptedContents[byteToCorrupt]) + 1]) + cbc_encryptedContents[byteToCorrupt:]\n",
    "print(\"ECB Corrupted: \" + str(binascii.hexlify(ecb_encryptedContents)))\n",
    "print(\"CBC Corrupted: \" + str(binascii.hexlify(cbc_encryptedContents)))"
   ]
  },
  {
   "cell_type": "code",
   "execution_count": 5,
   "metadata": {},
   "outputs": [
    {
     "name": "stdout",
     "output_type": "stream",
     "text": [
      "ECB Decrypted: b\"This is some cool'\\x9cx\\xb5|\\x12\\x1f\\xb8IN\\x07\\x9b\\xe1\\x1a\\xcfnfortunately going to be corrupted. :(\"\n",
      "CBC Decrypted: b'This is some coo\\xba\\xd2\\xae\\xf9\\xf0\\xd4\\xaa\\xb3@\\xe1\\xe9\\x18\\xe6\\x8f\\xce\\x0enfortunately \\xd4oing to be corrupted. :('\n"
     ]
    }
   ],
   "source": [
    "def depad(inString):\n",
    "    length = inString[-1]\n",
    "    for i in range(-1, -length, -1):\n",
    "        if inString[i] != length:\n",
    "            return inString\n",
    "    return inString[:-length]\n",
    "\n",
    "cbcDecryptor = AES.new(key, AES.MODE_CBC, b\"secretvectooooor\")\n",
    "\n",
    "ecb_decryptedContents = ecbEncryptor.decrypt(ecb_corruptedContents)\n",
    "cbc_decryptedContents = cbcDecryptor.decrypt(cbc_corruptedContents)\n",
    "print(\"ECB Decrypted: \" + str(depad(ecb_decryptedContents)))\n",
    "print(\"CBC Decrypted: \" + str(depad(cbc_decryptedContents)))"
   ]
  },
  {
   "cell_type": "code",
   "execution_count": null,
   "metadata": {},
   "outputs": [],
   "source": []
  }
 ],
 "metadata": {
  "kernelspec": {
   "display_name": "Python 3",
   "language": "python",
   "name": "python3"
  },
  "language_info": {
   "codemirror_mode": {
    "name": "ipython",
    "version": 3
   },
   "file_extension": ".py",
   "mimetype": "text/x-python",
   "name": "python",
   "nbconvert_exporter": "python",
   "pygments_lexer": "ipython3",
   "version": "3.8.10"
  },
  "orig_nbformat": 4,
  "vscode": {
   "interpreter": {
    "hash": "916dbcbb3f70747c44a77c7bcd40155683ae19c65e1c03b4aa3499c5328201f1"
   }
  }
 },
 "nbformat": 4,
 "nbformat_minor": 2
}
