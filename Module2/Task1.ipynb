{
 "cells": [
  {
   "cell_type": "code",
   "execution_count": 3,
   "metadata": {},
   "outputs": [],
   "source": [
    "import binascii"
   ]
  },
  {
   "cell_type": "code",
   "execution_count": 5,
   "metadata": {},
   "outputs": [],
   "source": [
    "key = b'mysecretpassword'\n",
    "plaintext = b'Secret Message A'"
   ]
  },
  {
   "cell_type": "code",
   "execution_count": 1,
   "metadata": {},
   "outputs": [
    {
     "ename": "NameError",
     "evalue": "name 'key' is not defined",
     "output_type": "error",
     "traceback": [
      "\u001b[0;31m---------------------------------------------------------------------------\u001b[0m",
      "\u001b[0;31mNameError\u001b[0m                                 Traceback (most recent call last)",
      "Cell \u001b[0;32mIn[1], line 3\u001b[0m\n\u001b[1;32m      1\u001b[0m \u001b[39mfrom\u001b[39;00m \u001b[39mCrypto\u001b[39;00m\u001b[39m.\u001b[39;00m\u001b[39mCipher\u001b[39;00m \u001b[39mimport\u001b[39;00m AES\n\u001b[0;32m----> 3\u001b[0m encobj \u001b[39m=\u001b[39m AES\u001b[39m.\u001b[39mnew(key, AES\u001b[39m.\u001b[39mMODE_ECB)\n\u001b[1;32m      4\u001b[0m ciphertext \u001b[39m=\u001b[39m encobj\u001b[39m.\u001b[39mencrypt(plaintext)\n\u001b[1;32m      5\u001b[0m \u001b[39m# ciphertext in bytes\u001b[39;00m\n",
      "\u001b[0;31mNameError\u001b[0m: name 'key' is not defined"
     ]
    }
   ],
   "source": [
    "from Crypto.Cipher import AES\n",
    "\n",
    "encobj = AES.new(key, AES.MODE_ECB)\n",
    "ciphertext = encobj.encrypt(plaintext)\n",
    "# ciphertext in bytes\n",
    "print(ciphertext)\n",
    "# ciphertext in hex representation\n",
    "print(binascii.hexlify(ciphertext))\n",
    "# convert to string object\n",
    "a = binascii.hexlify(ciphertext)\n",
    "print(a.decode('ascii'))"
   ]
  },
  {
   "cell_type": "code",
   "execution_count": 7,
   "metadata": {},
   "outputs": [
    {
     "name": "stdout",
     "output_type": "stream",
     "text": [
      "b'\\xab\\x89\\x82\\xce\\x90\\xb3\\xdd\\x16\\xc8C\\xc0\\x8a?\\t\\x140'\n",
      "b'ab8982ce90b3dd16c843c08a3f091430'\n",
      "ab8982ce90b3dd16c843c08a3f091430\n"
     ]
    }
   ],
   "source": [
    "from Crypto.Cipher import Blowfish\n",
    "\n",
    "encobj = Blowfish.new(key, Blowfish.MODE_ECB)\n",
    "ciphertext = encobj.encrypt(plaintext)\n",
    "# ciphertext in bytes\n",
    "print(ciphertext)\n",
    "# ciphertext in hex representation\n",
    "print(binascii.hexlify(ciphertext))\n",
    "# convert to string object\n",
    "a = binascii.hexlify(ciphertext)\n",
    "print(a.decode('ascii'))"
   ]
  },
  {
   "cell_type": "code",
   "execution_count": null,
   "metadata": {},
   "outputs": [
    {
     "name": "stdout",
     "output_type": "stream",
     "text": [
      "b'\\xc4\\x1b\\xf1\\xb86b{\\x0f\\xfb\\xa3\\x80s\\xb1\\xdf\\xf6\\xa4'\n",
      "b'c41bf1b836627b0ffba38073b1dff6a4'\n",
      "c41bf1b836627b0ffba38073b1dff6a4\n"
     ]
    }
   ],
   "source": [
    "from Crypto.Cipher import DES\n",
    "\n",
    "#Single DES key length is 8bytes max! Have to split key.\n",
    "encobj = DES.new(key[0:8], DES.MODE_ECB)\n",
    "\n",
    "ciphertext = encobj.encrypt(plaintext)\n",
    "# ciphertext in bytes\n",
    "print(ciphertext)\n",
    "# ciphertext in hex representation\n",
    "print(binascii.hexlify(ciphertext))\n",
    "# convert to string object\n",
    "a = binascii.hexlify(ciphertext)\n",
    "print(a.decode('ascii'))"
   ]
  },
  {
   "cell_type": "code",
   "execution_count": 10,
   "metadata": {},
   "outputs": [
    {
     "name": "stdout",
     "output_type": "stream",
     "text": [
      "b'\\x07L:\\x14\\xf0kp\\xdf\\xd7\\xe1;\\nwj\\xdd\\xa6'\n",
      "b'074c3a14f06b70dfd7e13b0a776adda6'\n",
      "074c3a14f06b70dfd7e13b0a776adda6\n"
     ]
    }
   ],
   "source": [
    "from Crypto.Cipher import DES3\n",
    "\n",
    "#Triple DES key length is 24 bytes! (8*3) Have to add and split key.\n",
    "encobj = DES3.new(key + key[0:8], DES3.MODE_ECB)\n",
    "\n",
    "ciphertext = encobj.encrypt(plaintext)\n",
    "# ciphertext in bytes\n",
    "print(ciphertext)\n",
    "# ciphertext in hex representation\n",
    "print(binascii.hexlify(ciphertext))\n",
    "# convert to string object\n",
    "a = binascii.hexlify(ciphertext)\n",
    "print(a.decode('ascii'))"
   ]
  },
  {
   "cell_type": "code",
   "execution_count": 12,
   "metadata": {},
   "outputs": [
    {
     "name": "stdout",
     "output_type": "stream",
     "text": [
      "b'\\x07L:\\x14\\xf0kp\\xdf\\xd7\\xe1;\\nwj\\xdd\\xa6'\n",
      "b'074c3a14f06b70dfd7e13b0a776adda6'\n",
      "074c3a14f06b70dfd7e13b0a776adda6\n"
     ]
    }
   ],
   "source": [
    "from Crypto.Cipher import ARC4\n",
    "from Crypto.Hash import SHA\n",
    "from Crypto.Random import get_random_bytes\n",
    "\n",
    "nonce = get_random_bytes(16)\n",
    "tempkey = SHA.new(key+nonce).digest()\n",
    "cipher = ARC4.new(tempkey)\n",
    "msg = nonce + cipher.encrypt(plaintext)\n",
    "\n",
    "# ciphertext in bytes\n",
    "print(ciphertext)\n",
    "# ciphertext in hex representation\n",
    "print(binascii.hexlify(ciphertext))\n",
    "# convert to string object\n",
    "a = binascii.hexlify(ciphertext)\n",
    "print(a.decode('ascii'))"
   ]
  },
  {
   "cell_type": "code",
   "execution_count": null,
   "metadata": {},
   "outputs": [],
   "source": []
  }
 ],
 "metadata": {
  "kernelspec": {
   "display_name": "Python 3",
   "language": "python",
   "name": "python3"
  },
  "language_info": {
   "codemirror_mode": {
    "name": "ipython",
    "version": 3
   },
   "file_extension": ".py",
   "mimetype": "text/x-python",
   "name": "python",
   "nbconvert_exporter": "python",
   "pygments_lexer": "ipython3",
   "version": "3.8.10 (default, Mar 15 2022, 12:22:08) \n[GCC 9.4.0]"
  },
  "orig_nbformat": 4,
  "vscode": {
   "interpreter": {
    "hash": "916dbcbb3f70747c44a77c7bcd40155683ae19c65e1c03b4aa3499c5328201f1"
   }
  }
 },
 "nbformat": 4,
 "nbformat_minor": 2
}
