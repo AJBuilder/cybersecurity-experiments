{
 "cells": [
  {
   "cell_type": "code",
   "execution_count": 55,
   "metadata": {},
   "outputs": [],
   "source": [
    "import os\n",
    "from Crypto.Cipher import AES"
   ]
  },
  {
   "cell_type": "code",
   "execution_count": 52,
   "metadata": {},
   "outputs": [],
   "source": [
    "inImage = open(\"original.bmp\", \"rb\").read()\n",
    "header = inImage[:54]\n",
    "image = inImage[54:]\n",
    "outImage = bytearray(header)"
   ]
  },
  {
   "cell_type": "code",
   "execution_count": 53,
   "metadata": {},
   "outputs": [],
   "source": [
    "\n",
    "\n",
    "key = b'itsmysecretimaga'\n",
    "\n",
    "encryptor = AES.new(key, AES.MODE_ECB)\n",
    "for chunkNum in range(0, len(image), 16):\n",
    "    bytesLeft = len(image) - chunkNum\n",
    "    \n",
    "    #print(\"Writing block \" + str(chunkNum) + \" Bytes left: \" + str(bytesLeft) + \" chun\")\n",
    "    \n",
    "    if bytesLeft < 16: \n",
    "        if bytesLeft != 0:\n",
    "            #print(\"len of final block: \" + str(len(image[chunkNum:] + bytes(b' ' * (16 - bytesLeft)))))\n",
    "            chunk = image[chunkNum:] + (b' ' * (16 - bytesLeft))\n",
    "        else:\n",
    "            break\n",
    "    else:    \n",
    "        chunk = image[chunkNum:chunkNum + 16]\n",
    "    \n",
    "    outImage += encryptor.encrypt(chunk)\n"
   ]
  },
  {
   "cell_type": "code",
   "execution_count": 54,
   "metadata": {},
   "outputs": [
    {
     "data": {
      "text/plain": [
       "184982"
      ]
     },
     "execution_count": 54,
     "metadata": {},
     "output_type": "execute_result"
    }
   ],
   "source": [
    "output = open('encrypted_image.bmp', \"wb\")\n",
    "output.write(outImage)"
   ]
  },
  {
   "cell_type": "code",
   "execution_count": null,
   "metadata": {},
   "outputs": [],
   "source": []
  }
 ],
 "metadata": {
  "kernelspec": {
   "display_name": "Python 3",
   "language": "python",
   "name": "python3"
  },
  "language_info": {
   "codemirror_mode": {
    "name": "ipython",
    "version": 3
   },
   "file_extension": ".py",
   "mimetype": "text/x-python",
   "name": "python",
   "nbconvert_exporter": "python",
   "pygments_lexer": "ipython3",
   "version": "3.8.10 (default, Mar 15 2022, 12:22:08) \n[GCC 9.4.0]"
  },
  "orig_nbformat": 4,
  "vscode": {
   "interpreter": {
    "hash": "916dbcbb3f70747c44a77c7bcd40155683ae19c65e1c03b4aa3499c5328201f1"
   }
  }
 },
 "nbformat": 4,
 "nbformat_minor": 2
}
