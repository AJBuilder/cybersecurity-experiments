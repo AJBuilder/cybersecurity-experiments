{
 "cells": [
  {
   "cell_type": "code",
   "execution_count": 1,
   "metadata": {},
   "outputs": [],
   "source": [
    "import os\n",
    "from Crypto.Cipher import AES"
   ]
  },
  {
   "cell_type": "code",
   "execution_count": 2,
   "metadata": {},
   "outputs": [],
   "source": [
    "inImage = open(\"original.bmp\", \"rb\").read()\n",
    "header = inImage[:54]\n",
    "image = inImage[54:]\n",
    "ecbOutImage = bytearray(header)\n",
    "cbcOutImage = bytearray(header)\n"
   ]
  },
  {
   "cell_type": "code",
   "execution_count": 3,
   "metadata": {},
   "outputs": [],
   "source": [
    "\n",
    "\n",
    "key = b'itsmysecretimage'\n",
    "\n",
    "ecbEncryptor = AES.new(key, AES.MODE_ECB)\n",
    "cbcEncryptor = AES.new(key, AES.MODE_CBC)\n",
    "for chunkNum in range(0, len(image), 16):\n",
    "    bytesLeft = len(image) - chunkNum\n",
    "    \n",
    "    #print(\"Writing block \" + str(chunkNum) + \" Bytes left: \" + str(bytesLeft) + \" chun\")\n",
    "    \n",
    "    if bytesLeft < 16: \n",
    "        if bytesLeft != 0:\n",
    "            #print(\"len of final block: \" + str(len(image[chunkNum:] + bytes(b' ' * (16 - bytesLeft)))))\n",
    "            chunk = image[chunkNum:] + (b' ' * (16 - bytesLeft))\n",
    "        else:\n",
    "            break\n",
    "    else:    \n",
    "        chunk = image[chunkNum:chunkNum + 16]\n",
    "    \n",
    "    ecbOutImage += ecbEncryptor.encrypt(chunk)\n",
    "    cbcOutImage += cbcEncryptor.encrypt(chunk)\n"
   ]
  },
  {
   "cell_type": "code",
   "execution_count": 5,
   "metadata": {},
   "outputs": [],
   "source": [
    "output = open('ecb_encrypted_image.bmp', \"wb\")\n",
    "output.write(ecbOutImage)\n",
    "output.close()\n",
    "\n",
    "output = open('cbc_encrypted_image.bmp', \"wb\")\n",
    "output.write(cbcOutImage)\n",
    "output.close()\n",
    "\n"
   ]
  },
  {
   "cell_type": "code",
   "execution_count": null,
   "metadata": {},
   "outputs": [],
   "source": []
  }
 ],
 "metadata": {
  "kernelspec": {
   "display_name": "Python 3",
   "language": "python",
   "name": "python3"
  },
  "language_info": {
   "codemirror_mode": {
    "name": "ipython",
    "version": 3
   },
   "file_extension": ".py",
   "mimetype": "text/x-python",
   "name": "python",
   "nbconvert_exporter": "python",
   "pygments_lexer": "ipython3",
   "version": "3.8.10"
  },
  "orig_nbformat": 4,
  "vscode": {
   "interpreter": {
    "hash": "916dbcbb3f70747c44a77c7bcd40155683ae19c65e1c03b4aa3499c5328201f1"
   }
  }
 },
 "nbformat": 4,
 "nbformat_minor": 2
}
